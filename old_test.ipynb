{
 "cells": [
  {
   "cell_type": "code",
   "execution_count": 1,
   "metadata": {},
   "outputs": [],
   "source": [
    "using DifferentialEquations\n",
    "using LinearAlgebra\n",
    "using Plots"
   ]
  },
  {
   "cell_type": "code",
   "execution_count": 3,
   "metadata": {},
   "outputs": [
    {
     "data": {
      "text/plain": [
       "line_dyn (generic function with 1 method)"
      ]
     },
     "execution_count": 3,
     "metadata": {},
     "output_type": "execute_result"
    }
   ],
   "source": [
    "function line_dyn(dx, x , u, t)\n",
    "    dx[1] = 1/L * u[1] - 1/L * x[2]\n",
    "    dx[2] = 1/C * x[1] - 1/C * u[2]\n",
    "end"
   ]
  },
  {
   "cell_type": "code",
   "execution_count": 10,
   "metadata": {},
   "outputs": [
    {
     "data": {
      "text/plain": [
       "single_line_dyn (generic function with 1 method)"
      ]
     },
     "execution_count": 10,
     "metadata": {},
     "output_type": "execute_result"
    }
   ],
   "source": [
    "function single_line_dyn(dx, x, t)\n",
    "    dx[1] = - 1/L * x[2]\n",
    "    dx[2] = 1/C * x[1] - 1/C * x[3] - x[2]/(R*C)\n",
    "    dx[3] = 1/L * x[2] - 1/L * x[4]\n",
    "    dx[4] = 1/(2*C) * x[3] - x[4]/(2*R*C) + x[5]/(2*C)\n",
    "    dx[5] = - 1/L * x[4]\n",
    "end"
   ]
  },
  {
   "cell_type": "code",
   "execution_count": 11,
   "metadata": {},
   "outputs": [
    {
     "data": {
      "text/plain": [
       "run_sim (generic function with 2 methods)"
      ]
     },
     "execution_count": 11,
     "metadata": {},
     "output_type": "execute_result"
    }
   ],
   "source": [
    "function run_sim(model,u0,t_final, solver)\n",
    "    \n",
    "    tspan = (0.0, t_final)\n",
    "    prob = ODEProblem(model,u0,tspan)\n",
    "    sol = solve(prob, solver)\n",
    "    \n",
    "    return sol \n",
    "end"
   ]
  },
  {
   "cell_type": "code",
   "execution_count": 13,
   "metadata": {},
   "outputs": [
    {
     "ename": "LoadError",
     "evalue": "BoundsError",
     "output_type": "error",
     "traceback": [
      "BoundsError",
      "",
      "Stacktrace:",
      "  [1] getindex",
      "    @ ./number.jl:98 [inlined]",
      "  [2] single_line_dyn(dx::Vector{Float64}, x::Int64, t::Float64)",
      "    @ Main ./In[10]:2",
      "  [3] ODEFunction",
      "    @ ~/.julia/packages/SciMLBase/cGK2b/src/scimlfunctions.jl:1622 [inlined]",
      "  [4] initialize!(integrator::OrdinaryDiffEq.ODEIntegrator{Tsit5{typeof(OrdinaryDiffEq.trivial_limiter!), typeof(OrdinaryDiffEq.trivial_limiter!), Static.False}, false, Vector{Float64}, Nothing, Float64, Int64, Float64, Float64, Float64, Float64, Vector{Vector{Float64}}, ODESolution{Float64, 2, Vector{Vector{Float64}}, Nothing, Nothing, Vector{Float64}, Vector{Vector{Vector{Float64}}}, ODEProblem{Vector{Float64}, Tuple{Float64, Float64}, false, Int64, ODEFunction{false, typeof(single_line_dyn), UniformScaling{Bool}, Nothing, Nothing, Nothing, Nothing, Nothing, Nothing, Nothing, Nothing, Nothing, Nothing, Nothing, Nothing, typeof(SciMLBase.DEFAULT_OBSERVED), Nothing}, Base.Pairs{Symbol, Union{}, Tuple{}, NamedTuple{(), Tuple{}}}, SciMLBase.StandardODEProblem}, Tsit5{typeof(OrdinaryDiffEq.trivial_limiter!), typeof(OrdinaryDiffEq.trivial_limiter!), Static.False}, OrdinaryDiffEq.InterpolationData{ODEFunction{false, typeof(single_line_dyn), UniformScaling{Bool}, Nothing, Nothing, Nothing, Nothing, Nothing, Nothing, Nothing, Nothing, Nothing, Nothing, Nothing, Nothing, typeof(SciMLBase.DEFAULT_OBSERVED), Nothing}, Vector{Vector{Float64}}, Vector{Float64}, Vector{Vector{Vector{Float64}}}, OrdinaryDiffEq.Tsit5ConstantCache{Float64, Float64}}, DiffEqBase.DEStats}, ODEFunction{false, typeof(single_line_dyn), UniformScaling{Bool}, Nothing, Nothing, Nothing, Nothing, Nothing, Nothing, Nothing, Nothing, Nothing, Nothing, Nothing, Nothing, typeof(SciMLBase.DEFAULT_OBSERVED), Nothing}, OrdinaryDiffEq.Tsit5ConstantCache{Float64, Float64}, OrdinaryDiffEq.DEOptions{Float64, Float64, Float64, Float64, PIController{Rational{Int64}}, typeof(DiffEqBase.ODE_DEFAULT_NORM), typeof(opnorm), Nothing, CallbackSet{Tuple{}, Tuple{}}, typeof(DiffEqBase.ODE_DEFAULT_ISOUTOFDOMAIN), typeof(DiffEqBase.ODE_DEFAULT_PROG_MESSAGE), typeof(DiffEqBase.ODE_DEFAULT_UNSTABLE_CHECK), DataStructures.BinaryHeap{Float64, DataStructures.FasterForward}, DataStructures.BinaryHeap{Float64, DataStructures.FasterForward}, Nothing, Nothing, Int64, Tuple{}, Tuple{}, Tuple{}}, Vector{Float64}, Float64, Nothing, OrdinaryDiffEq.DefaultInit}, cache::OrdinaryDiffEq.Tsit5ConstantCache{Float64, Float64})",
      "    @ OrdinaryDiffEq ~/.julia/packages/OrdinaryDiffEq/FhKjw/src/perform_step/low_order_rk_perform_step.jl:569",
      "  [5] __init(prob::ODEProblem{Vector{Float64}, Tuple{Float64, Float64}, false, Int64, ODEFunction{false, typeof(single_line_dyn), UniformScaling{Bool}, Nothing, Nothing, Nothing, Nothing, Nothing, Nothing, Nothing, Nothing, Nothing, Nothing, Nothing, Nothing, typeof(SciMLBase.DEFAULT_OBSERVED), Nothing}, Base.Pairs{Symbol, Union{}, Tuple{}, NamedTuple{(), Tuple{}}}, SciMLBase.StandardODEProblem}, alg::Tsit5{typeof(OrdinaryDiffEq.trivial_limiter!), typeof(OrdinaryDiffEq.trivial_limiter!), Static.False}, timeseries_init::Tuple{}, ts_init::Tuple{}, ks_init::Tuple{}, recompile::Type{Val{true}}; saveat::Tuple{}, tstops::Tuple{}, d_discontinuities::Tuple{}, save_idxs::Nothing, save_everystep::Bool, save_on::Bool, save_start::Bool, save_end::Nothing, callback::Nothing, dense::Bool, calck::Bool, dt::Float64, dtmin::Nothing, dtmax::Float64, force_dtmin::Bool, adaptive::Bool, gamma::Rational{Int64}, abstol::Nothing, reltol::Nothing, qmin::Rational{Int64}, qmax::Int64, qsteady_min::Int64, qsteady_max::Int64, beta1::Nothing, beta2::Nothing, qoldinit::Rational{Int64}, controller::Nothing, fullnormalize::Bool, failfactor::Int64, maxiters::Int64, internalnorm::typeof(DiffEqBase.ODE_DEFAULT_NORM), internalopnorm::typeof(opnorm), isoutofdomain::typeof(DiffEqBase.ODE_DEFAULT_ISOUTOFDOMAIN), unstable_check::typeof(DiffEqBase.ODE_DEFAULT_UNSTABLE_CHECK), verbose::Bool, timeseries_errors::Bool, dense_errors::Bool, advance_to_tstop::Bool, stop_at_next_tstop::Bool, initialize_save::Bool, progress::Bool, progress_steps::Int64, progress_name::String, progress_message::typeof(DiffEqBase.ODE_DEFAULT_PROG_MESSAGE), userdata::Nothing, allow_extrapolation::Bool, initialize_integrator::Bool, alias_u0::Bool, alias_du0::Bool, initializealg::OrdinaryDiffEq.DefaultInit, kwargs::Base.Pairs{Symbol, Union{}, Tuple{}, NamedTuple{(), Tuple{}}})",
      "    @ OrdinaryDiffEq ~/.julia/packages/OrdinaryDiffEq/FhKjw/src/solve.jl:456",
      "  [6] __init(prob::ODEProblem{Vector{Float64}, Tuple{Float64, Float64}, false, Int64, ODEFunction{false, typeof(single_line_dyn), UniformScaling{Bool}, Nothing, Nothing, Nothing, Nothing, Nothing, Nothing, Nothing, Nothing, Nothing, Nothing, Nothing, Nothing, typeof(SciMLBase.DEFAULT_OBSERVED), Nothing}, Base.Pairs{Symbol, Union{}, Tuple{}, NamedTuple{(), Tuple{}}}, SciMLBase.StandardODEProblem}, alg::Tsit5{typeof(OrdinaryDiffEq.trivial_limiter!), typeof(OrdinaryDiffEq.trivial_limiter!), Static.False}, timeseries_init::Tuple{}, ts_init::Tuple{}, ks_init::Tuple{}, recompile::Type{Val{true}}) (repeats 5 times)",
      "    @ OrdinaryDiffEq ~/.julia/packages/OrdinaryDiffEq/FhKjw/src/solve.jl:67",
      "  [7] #__solve#502",
      "    @ ~/.julia/packages/OrdinaryDiffEq/FhKjw/src/solve.jl:4 [inlined]",
      "  [8] __solve",
      "    @ ~/.julia/packages/OrdinaryDiffEq/FhKjw/src/solve.jl:4 [inlined]",
      "  [9] #solve_call#28",
      "    @ ~/.julia/packages/DiffEqBase/KouNZ/src/solve.jl:437 [inlined]",
      " [10] solve_call",
      "    @ ~/.julia/packages/DiffEqBase/KouNZ/src/solve.jl:409 [inlined]",
      " [11] #solve_up#34",
      "    @ ~/.julia/packages/DiffEqBase/KouNZ/src/solve.jl:780 [inlined]",
      " [12] solve_up",
      "    @ ~/.julia/packages/DiffEqBase/KouNZ/src/solve.jl:765 [inlined]",
      " [13] #solve#33",
      "    @ ~/.julia/packages/DiffEqBase/KouNZ/src/solve.jl:760 [inlined]",
      " [14] solve(prob::ODEProblem{Vector{Float64}, Tuple{Float64, Float64}, false, Int64, ODEFunction{false, typeof(single_line_dyn), UniformScaling{Bool}, Nothing, Nothing, Nothing, Nothing, Nothing, Nothing, Nothing, Nothing, Nothing, Nothing, Nothing, Nothing, typeof(SciMLBase.DEFAULT_OBSERVED), Nothing}, Base.Pairs{Symbol, Union{}, Tuple{}, NamedTuple{(), Tuple{}}}, SciMLBase.StandardODEProblem}, args::Tsit5{typeof(OrdinaryDiffEq.trivial_limiter!), typeof(OrdinaryDiffEq.trivial_limiter!), Static.False})",
      "    @ DiffEqBase ~/.julia/packages/DiffEqBase/KouNZ/src/solve.jl:755",
      " [15] run_sim(model::Function, u0::Vector{Float64}, p::Int64, t_final::Int64, solver::Tsit5{typeof(OrdinaryDiffEq.trivial_limiter!), typeof(OrdinaryDiffEq.trivial_limiter!), Static.False})",
      "    @ Main ./In[8]:5",
      " [16] top-level scope",
      "    @ In[13]:16",
      " [17] eval",
      "    @ ./boot.jl:373 [inlined]",
      " [18] include_string(mapexpr::typeof(REPL.softscope), mod::Module, code::String, filename::String)",
      "    @ Base ./loading.jl:1196"
     ]
    }
   ],
   "source": [
    "L = 450e-6\n",
    "C = 2.5e-3\n",
    "V_in = 120\n",
    "R = 50\n",
    "\n",
    "solver = Tsit5()\n",
    "x0 = ones(5)\n",
    "t_final = 1\n",
    "p = (1)\n",
    "\n",
    "# m1 = t->sin(2*pi*60*t)\n",
    "# m2 = t->sin(2*pi*60*t + 2*pi/3)\n",
    "# u = [m1 ; m2]\n",
    ";\n",
    "\n",
    "run_sim(single_line_dyn, x0, p, t_final, solver)"
   ]
  },
  {
   "cell_type": "code",
   "execution_count": null,
   "metadata": {},
   "outputs": [],
   "source": []
  },
  {
   "cell_type": "code",
   "execution_count": null,
   "metadata": {},
   "outputs": [],
   "source": []
  }
 ],
 "metadata": {
  "kernelspec": {
   "display_name": "Julia 1.7.3",
   "language": "julia",
   "name": "julia-1.7"
  },
  "language_info": {
   "file_extension": ".jl",
   "mimetype": "application/julia",
   "name": "julia",
   "version": "1.7.3"
  }
 },
 "nbformat": 4,
 "nbformat_minor": 4
}

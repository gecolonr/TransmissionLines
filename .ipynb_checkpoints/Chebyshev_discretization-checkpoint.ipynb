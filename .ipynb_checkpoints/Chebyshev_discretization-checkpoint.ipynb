{
 "cells": [
  {
   "cell_type": "code",
   "execution_count": 1,
   "metadata": {},
   "outputs": [
    {
     "data": {
      "text/plain": [
       "x (generic function with 1 method)"
      ]
     },
     "execution_count": 1,
     "metadata": {},
     "output_type": "execute_result"
    }
   ],
   "source": [
    "using Kronecker\n",
    "using LinearAlgebra\n",
    "include(\"functions.jl\")"
   ]
  },
  {
   "cell_type": "code",
   "execution_count": null,
   "metadata": {},
   "outputs": [],
   "source": [
    "benchmarking()"
   ]
  },
  {
   "cell_type": "code",
   "execution_count": null,
   "metadata": {},
   "outputs": [],
   "source": [
    "N = 7\n",
    "\n",
    "A0 = [-2 0 \n",
    "        0 -1]\n",
    "\n",
    "A1 = [0 0 \n",
    "        0 -0.1]\n",
    "\n",
    "A2 = [-2 0 0\n",
    "        0 -1 0\n",
    "         0 0 -3]\n",
    "\n",
    "A3 = [0 0 0\n",
    "        0 0 0 \n",
    "         0 0 -0.1]\n",
    "\n",
    "# Real matrices from Jia paper\n",
    "\n",
    "A4 = zeros(4, 4)\n",
    "A4[1, 2] = 376.9911\n",
    "A4[2, 1:3] = [-0.0963 -0.5 -0.0801]\n",
    "A4[3, :] = [-0.0480 0 -0.1667 0.1]\n",
    "A4[4, 4] = -1\n",
    "\n",
    "A5 = zeros(4,4)\n",
    "A5[4, 1] = 38.0187\n",
    "A5[4, 3] = -95.2560\n",
    "\n",
    "tau = 0.01\n",
    "\n",
    "M, n = build_M(N, tau, A0, A1)"
   ]
  },
  {
   "cell_type": "code",
   "execution_count": null,
   "metadata": {},
   "outputs": [],
   "source": [
    "println(\"According to Milano, size of M should be N*n x N*n\")\n",
    "\n",
    "s, t = size(M)\n",
    "println(\"measured size of M = $s x $t\")\n",
    "measured_N = s/n\n",
    "prod = measured_N*n\n",
    "\n",
    "println(\"N = $N\")\n",
    "println(\"n = $n\")\n",
    "println(\"measured_N = $measured_N\")\n",
    "println(\"measured_N*n = $prod\")\n",
    "println(\"measured_N*n x measured_N*n = $(measured_N*n) x $(measured_N*n)\")\n"
   ]
  },
  {
   "cell_type": "code",
   "execution_count": null,
   "metadata": {},
   "outputs": [],
   "source": [
    "size(M)"
   ]
  },
  {
   "cell_type": "code",
   "execution_count": null,
   "metadata": {},
   "outputs": [],
   "source": [
    "eigs = eigvals(M)"
   ]
  },
  {
   "cell_type": "code",
   "execution_count": null,
   "metadata": {},
   "outputs": [],
   "source": [
    "println(eigvals(A0))\n",
    "println(eigvals(A1))"
   ]
  },
  {
   "cell_type": "code",
   "execution_count": null,
   "metadata": {},
   "outputs": [],
   "source": [
    "L = 450e-6\n",
    "C = 2.5e-3\n",
    "V_dc = 1200\n",
    "R = 50"
   ]
  },
  {
   "cell_type": "code",
   "execution_count": null,
   "metadata": {},
   "outputs": [],
   "source": [
    "E = zeros(4,4)\n",
    "E[1,1] = L\n",
    "E[2,2] = C\n",
    "E[3,3] = L\n",
    "E[4,4] = C\n",
    "E"
   ]
  },
  {
   "cell_type": "code",
   "execution_count": null,
   "metadata": {},
   "outputs": [],
   "source": [
    "J = zeros(4,4)\n",
    "J[1,2] = -1\n",
    "J[2,1] = 1\n",
    "J[3,4] = -1\n",
    "J[4,3] = 1\n",
    "J"
   ]
  },
  {
   "cell_type": "code",
   "execution_count": null,
   "metadata": {},
   "outputs": [],
   "source": [
    "B = zeros(4,2)\n",
    "B[1,1] = V_dc/2\n",
    "B[3,2] = V_dc/2\n",
    "B"
   ]
  },
  {
   "cell_type": "code",
   "execution_count": null,
   "metadata": {},
   "outputs": [],
   "source": [
    "M = [0\n",
    "    -1\n",
    "     0\n",
    "     1]"
   ]
  },
  {
   "cell_type": "code",
   "execution_count": null,
   "metadata": {},
   "outputs": [],
   "source": [
    "N = [0 1/R 0 -1/R]"
   ]
  },
  {
   "cell_type": "code",
   "execution_count": null,
   "metadata": {},
   "outputs": [],
   "source": [
    "E_inv = inv(E)\n",
    "A0 = E_inv*J\n",
    "A1 = E_inv*M*N"
   ]
  },
  {
   "cell_type": "code",
   "execution_count": null,
   "metadata": {},
   "outputs": [],
   "source": [
    "using Kronecker\n",
    "using LinearAlgebra\n",
    "\n",
    "tau = 0.0001\n",
    "N = 7\n",
    "\n",
    "M, n = build_M(N, tau, A0, A1)"
   ]
  },
  {
   "cell_type": "code",
   "execution_count": null,
   "metadata": {},
   "outputs": [],
   "source": [
    "print(size(M))\n",
    "eigs = eigvals(M)"
   ]
  },
  {
   "cell_type": "code",
   "execution_count": null,
   "metadata": {},
   "outputs": [],
   "source": []
  },
  {
   "cell_type": "code",
   "execution_count": null,
   "metadata": {},
   "outputs": [],
   "source": []
  }
 ],
 "metadata": {
  "kernelspec": {
   "display_name": "Julia 1.7.3",
   "language": "julia",
   "name": "julia-1.7"
  },
  "language_info": {
   "file_extension": ".jl",
   "mimetype": "application/julia",
   "name": "julia",
   "version": "1.7.3"
  }
 },
 "nbformat": 4,
 "nbformat_minor": 4
}

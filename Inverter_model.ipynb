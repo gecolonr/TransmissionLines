{
 "cells": [
  {
   "cell_type": "code",
   "execution_count": null,
   "metadata": {},
   "outputs": [],
   "source": [
    "using DifferentialEquations"
   ]
  },
  {
   "cell_type": "code",
   "execution_count": null,
   "metadata": {},
   "outputs": [],
   "source": [
    "using Plots"
   ]
  },
  {
   "cell_type": "code",
   "execution_count": null,
   "metadata": {},
   "outputs": [],
   "source": [
    "using NLsolve"
   ]
  },
  {
   "cell_type": "code",
   "execution_count": 3,
   "metadata": {},
   "outputs": [
    {
     "data": {
      "text/plain": [
       "filter_design1 (generic function with 1 method)"
      ]
     },
     "execution_count": 3,
     "metadata": {},
     "output_type": "execute_result"
    }
   ],
   "source": [
    "# Inductor and capacitor design\n",
    "function filter_design1(ω, D, fs, V_ref, r)\n",
    "    Ts = 1/fs\n",
    "    dt = D*Ts\n",
    "    \n",
    "    # Avg current in inductor is current thru resistor\n",
    "    Irms = V_ref/r \n",
    "    \n",
    "    # 30 % ripple is optimal\n",
    "    di = 0.3*Irms\n",
    "\n",
    "    v_L = 600 - 120\n",
    "    # v_L = Ldi/dt\n",
    "    lf = dt/di*v_L\n",
    "\n",
    "    # ω = 1/sqrt(L*C) \n",
    "    cf = 1/(ω^2*lf)\n",
    "    return lf, cf\n",
    "end"
   ]
  },
  {
   "cell_type": "code",
   "execution_count": 4,
   "metadata": {},
   "outputs": [
    {
     "data": {
      "text/plain": [
       "filter_design2 (generic function with 1 method)"
      ]
     },
     "execution_count": 4,
     "metadata": {},
     "output_type": "execute_result"
    }
   ],
   "source": [
    "function filter_design2(ω, damp, r)\n",
    "    cf = 1/(2*damp*r*ω)\n",
    "    lf = 1/(ω^2*cf)\n",
    "\n",
    "    return lf, cf\n",
    "end"
   ]
  },
  {
   "cell_type": "code",
   "execution_count": 5,
   "metadata": {},
   "outputs": [
    {
     "data": {
      "text/plain": [
       "phasor_analysis (generic function with 1 method)"
      ]
     },
     "execution_count": 5,
     "metadata": {},
     "output_type": "execute_result"
    }
   ],
   "source": [
    "function phasor_analysis(VC, ω, L, C, R)\n",
    "    IR = VC/R\n",
    "    IC = im*ω*C*VC\n",
    "    IL = IC + IR\n",
    "    VL = im*IL*ω*L\n",
    "    VINV = VC + VL\n",
    "    Q_L = abs(IL)^2*ω*L\n",
    "    Q_C = abs(VC)^2*ω*C\n",
    "    Q_INV = Q_L - Q_C\n",
    "    P_INV = abs(VC)^2/R\n",
    "    return Q_L, Q_C, Q_INV\n",
    "end"
   ]
  },
  {
   "cell_type": "code",
   "execution_count": 6,
   "metadata": {},
   "outputs": [
    {
     "data": {
      "text/plain": [
       "phasor_analysis2 (generic function with 1 method)"
      ]
     },
     "execution_count": 6,
     "metadata": {},
     "output_type": "execute_result"
    }
   ],
   "source": [
    "function phasor_analysis2(VINV, ω, L, C, R)\n",
    "    ZC = -im/(ω*C)\n",
    "    ZRC = ZC*R/(ZC + R)\n",
    "    ZL = im*ω*L\n",
    "    Z = ZL + ZRC\n",
    "    \n",
    "    IL = VINV/Z\n",
    "    VL = VINV * ZL/Z\n",
    "    VRC = VINV * ZRC/Z\n",
    "    IC = VRC/ZC\n",
    "    IR = VRC/R\n",
    "\n",
    "    Q_L = abs(IL)^2*ω*L\n",
    "    Q_C = abs(VRC)^2*ω*C\n",
    "    Q_INV = Q_L - Q_C\n",
    "    P_INV = abs(VRC)^2/R\n",
    "    return VRC\n",
    "end"
   ]
  },
  {
   "cell_type": "code",
   "execution_count": null,
   "metadata": {},
   "outputs": [],
   "source": [
    "v = phasor_analysis(120, 377, lf, cf, r)\n",
    "rect_to_polar(v)"
   ]
  },
  {
   "cell_type": "code",
   "execution_count": null,
   "metadata": {
    "jupyter": {
     "source_hidden": true
    }
   },
   "outputs": [],
   "source": [
    "function rect_to_polar(c)\n",
    "    a = real(c)\n",
    "    b = imag(c)\n",
    "    return sqrt(a^2 + b^2), atan(b/a)\n",
    "end"
   ]
  },
  {
   "cell_type": "code",
   "execution_count": null,
   "metadata": {
    "jupyter": {
     "source_hidden": true
    }
   },
   "outputs": [],
   "source": [
    "function polar_to_rect(mag, angle)\n",
    "    return mag*cos(angle) + im*mag*sin(angle)\n",
    "end"
   ]
  },
  {
   "cell_type": "code",
   "execution_count": 2,
   "metadata": {},
   "outputs": [
    {
     "ename": "LoadError",
     "evalue": "UndefVarError: filter_design1 not defined",
     "output_type": "error",
     "traceback": [
      "UndefVarError: filter_design1 not defined",
      "",
      "Stacktrace:",
      " [1] top-level scope",
      "   @ In[2]:12",
      " [2] eval",
      "   @ ./boot.jl:373 [inlined]",
      " [3] include_string(mapexpr::typeof(REPL.softscope), mod::Module, code::String, filename::String)",
      "   @ Base ./loading.jl:1196"
     ]
    }
   ],
   "source": [
    "# Parameters\n",
    "V_dc = 1200 \n",
    "\n",
    "f = 60\n",
    "ω = 2*pi*f\n",
    "D = 0.5\n",
    "fs = 10e3\n",
    "p_ref = 1e3\n",
    "V_ref = 480\n",
    "r = V_ref^2/p_ref\n",
    "\n",
    "lf, cf = filter_design1(ω, D, fs, V_ref, r)\n",
    "# damp = 0.9\n",
    "# lf, cf = filter_design2(ω, damp, r)\n",
    "\n",
    "# Power filter gain\n",
    "ω_z = 1000\n",
    "\n",
    "# Droop gains\n",
    "kp = 0.01\n",
    "kq = 0.0025\n",
    "\n",
    "V_ref = 120\n",
    "f_ref = 60.0\n",
    "ω_ref = 2*pi*f_ref\n",
    "\n",
    "q_L, q_C, q_ref = phasor_analysis(V_ref, ω, lf, cf, r)\n",
    "\n",
    "# Inner control gains\n",
    "kp_vd = 0.59\n",
    "ki_vd = 736.0\n",
    "kp_id = 1.27\n",
    "ki_id = 14.3\n",
    "\n",
    "kp_vq = 0.59\n",
    "ki_vq = 736.0\n",
    "kp_iq = 1.27\n",
    "ki_iq = 14.3"
   ]
  },
  {
   "cell_type": "code",
   "execution_count": null,
   "metadata": {},
   "outputs": [],
   "source": [
    "q_L, q_C, q_ref, p_ref, r, IL, VINV"
   ]
  },
  {
   "cell_type": "code",
   "execution_count": null,
   "metadata": {},
   "outputs": [],
   "source": [
    "rect_to_polar(VINV)"
   ]
  },
  {
   "cell_type": "code",
   "execution_count": null,
   "metadata": {},
   "outputs": [],
   "source": [
    "1/sqrt(lf*cf)"
   ]
  },
  {
   "cell_type": "code",
   "execution_count": null,
   "metadata": {},
   "outputs": [],
   "source": [
    "function power_comp(vd, vq, id, iq)\n",
    "    p = vd*id + vq*iq\n",
    "    q = -vd*iq + vq*id\n",
    "    return p, q\n",
    "end"
   ]
  },
  {
   "cell_type": "code",
   "execution_count": null,
   "metadata": {},
   "outputs": [],
   "source": [
    "function droop(pf, qf)\n",
    "    ω = ω_ref - kp * (pf - p_ref)\n",
    "    V = V_ref - kq * (qf - q_ref)    \n",
    "    return V, ω\n",
    "end"
   ]
  },
  {
   "cell_type": "code",
   "execution_count": null,
   "metadata": {},
   "outputs": [],
   "source": [
    "function d_axis_inner_controls(vd_ref, vq_ref, vd, vq, id, iq, ϵd, γd, ϵq, γq, ω)\n",
    "    # d-component controls\n",
    "    dϵd = ki_vd * (vd_ref - vd) \n",
    "    id_ref = -ω*cf*vq + kp_vd * (vd_ref - vd) + ϵd\n",
    "    \n",
    "    dγd = ki_id * (id_ref - id)\n",
    "    vd_star = kp_id * (id_ref - id) + γd - ω*lf*iq\n",
    "    \n",
    "    md = vd_star/(0.5*V_dc)\n",
    "    \n",
    "    return dϵd, dγd, md\n",
    "end"
   ]
  },
  {
   "cell_type": "code",
   "execution_count": null,
   "metadata": {},
   "outputs": [],
   "source": [
    "function q_axis_inner_controls(vd_ref, vq_ref, vd, vq, id, iq, ϵd, γd, ϵq, γq, ω)\n",
    "    # q-component controls\n",
    "    dϵq = ki_vq * (vq_ref - vq)   \n",
    "    iq_ref = ω*cf*vd + kp_vq * (vq_ref - vq) + ϵq   \n",
    "    \n",
    "    dγq = ki_iq * (iq_ref - iq)\n",
    "    vq_star = kp_iq * (iq_ref - iq) + γq + ω*lf*id\n",
    "    \n",
    "    mq = vq_star/(0.5*V_dc)\n",
    "    \n",
    "    return dϵq, dγq, mq\n",
    "end"
   ]
  },
  {
   "cell_type": "code",
   "execution_count": null,
   "metadata": {},
   "outputs": [],
   "source": [
    "function inverter_dynamics(vd, vq, id, iq, md, mq, ω)\n",
    "    did = 1/lf * (md*V_dc/2 - vd) + ω*iq\n",
    "    diq = 1/lf * (mq*V_dc/2 - vq) - ω*id\n",
    "    \n",
    "    dvd = 1/cf * (id - vd/r) + ω*vq\n",
    "    dvq = 1/cf * (iq - vq/r) - ω*vd\n",
    "    \n",
    "    return did, diq, dvd, dvq\n",
    "end"
   ]
  },
  {
   "cell_type": "code",
   "execution_count": null,
   "metadata": {},
   "outputs": [],
   "source": [
    "function all_dynamics(dx, x, p, t)\n",
    "    ϵd = x[1]\n",
    "    ϵq = x[2]\n",
    "    γd = x[3]\n",
    "    γq = x[4]\n",
    "    id = x[5]\n",
    "    iq = x[6]\n",
    "    vd = x[7]\n",
    "    vq = x[8]\n",
    "    pf = x[9]\n",
    "    qf = x[10]\n",
    "    \n",
    "    # Grid-forming control\n",
    "    p, q = power_comp(vd, vq, id, iq)\n",
    "    V, ω = droop(pf, qf)\n",
    "    \n",
    "    # what is the meaning of θ? Difference angle relative to rotating frame at ω_ref\n",
    "\n",
    "    vd_ref, vq_ref = V, 0\n",
    "    \n",
    "    # Inner control loops\n",
    "    dϵd, dγd, md = d_axis_inner_controls(vd_ref, vq_ref, vd, vq, id, iq, ϵd, γd, ϵq, γq, ω)\n",
    "    dϵq, dγq, mq = q_axis_inner_controls(vd_ref, vq_ref, vd, vq, id, iq, ϵd, γd, ϵq, γq, ω)\n",
    "    \n",
    "    # Inverter dynamics\n",
    "    did, diq, dvd, dvq = inverter_dynamics(vd, vq, id, iq, md, mq, ω)\n",
    "        \n",
    "    dx[1] = dϵd\n",
    "    dx[2] = dϵq\n",
    "    dx[3] = dγd\n",
    "    dx[4] = dγq\n",
    "    dx[5] = did\n",
    "    dx[6] = diq\n",
    "    dx[7] = dvd\n",
    "    dx[8] = dvq\n",
    "    dx[9] = ω_z*(p - pf)\n",
    "    dx[10] = ω_z*(q - qf)\n",
    "    \n",
    "    return dx, x\n",
    "end"
   ]
  },
  {
   "cell_type": "code",
   "execution_count": null,
   "metadata": {},
   "outputs": [],
   "source": [
    "x0_guess_pf = [0.3 0.0 0.1 1.0 0.1 0.0 0.1 0.1 p_ref q_ref]\n",
    "res = nlsolve((dx, x) -> all_dynamics(dx, x, 0, 0), x0_guess_pf)"
   ]
  },
  {
   "cell_type": "code",
   "execution_count": null,
   "metadata": {},
   "outputs": [],
   "source": [
    "res.zero"
   ]
  },
  {
   "cell_type": "code",
   "execution_count": null,
   "metadata": {},
   "outputs": [],
   "source": [
    "x0 = res.zero\n",
    "tspan = (0.0,4.0)\n",
    "prob = ODEProblem(all_dynamics,x0,tspan)\n",
    "sol = solve(prob, Rodas4(), abstol=1e-4)"
   ]
  },
  {
   "cell_type": "code",
   "execution_count": null,
   "metadata": {},
   "outputs": [],
   "source": [
    "plot(sol,linewidth=1,title=\"Solution to the linear ODE with a thick line\",\n",
    "     xaxis=\"Time (t)\",yaxis=\"Vars(t)\",label=\"My Thick Line!\") # legend=false"
   ]
  },
  {
   "cell_type": "code",
   "execution_count": null,
   "metadata": {},
   "outputs": [],
   "source": [
    "Vd = [x[7] for x in sol.u]\n",
    "Vq = [x[8] for x in sol.u]\n",
    "id = [x[5] for x in sol.u]\n",
    "iq = [x[6] for x in sol.u]"
   ]
  },
  {
   "cell_type": "code",
   "execution_count": null,
   "metadata": {},
   "outputs": [],
   "source": [
    "w = [x[2] for x in droop.(Vd,Vq,id,iq)]"
   ]
  },
  {
   "cell_type": "code",
   "execution_count": null,
   "metadata": {},
   "outputs": [],
   "source": [
    "Vq"
   ]
  },
  {
   "cell_type": "code",
   "execution_count": null,
   "metadata": {},
   "outputs": [],
   "source": [
    "plot(sol.t, w)"
   ]
  },
  {
   "cell_type": "code",
   "execution_count": null,
   "metadata": {},
   "outputs": [],
   "source": [
    "sol.u"
   ]
  },
  {
   "cell_type": "code",
   "execution_count": null,
   "metadata": {},
   "outputs": [],
   "source": []
  }
 ],
 "metadata": {
  "kernelspec": {
   "display_name": "Julia 1.7.3",
   "language": "julia",
   "name": "julia-1.7"
  },
  "language_info": {
   "file_extension": ".jl",
   "mimetype": "application/julia",
   "name": "julia",
   "version": "1.7.3"
  }
 },
 "nbformat": 4,
 "nbformat_minor": 4
}

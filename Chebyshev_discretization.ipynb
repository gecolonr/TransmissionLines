{
 "cells": [
  {
   "cell_type": "code",
   "execution_count": 1,
   "metadata": {},
   "outputs": [
    {
     "data": {
      "text/plain": [
       "x (generic function with 1 method)"
      ]
     },
     "execution_count": 1,
     "metadata": {},
     "output_type": "execute_result"
    }
   ],
   "source": [
    "function x(k)\n",
    "    return cos(k*pi/N)\n",
    "end"
   ]
  },
  {
   "cell_type": "code",
   "execution_count": 12,
   "metadata": {},
   "outputs": [
    {
     "data": {
      "text/plain": [
       "build_c (generic function with 2 methods)"
      ]
     },
     "execution_count": 12,
     "metadata": {},
     "output_type": "execute_result"
    }
   ],
   "source": [
    "function build_c()\n",
    "    \n",
    "    c = ones(N+1)\n",
    "    c[1] = 2\n",
    "    c[N+1] = 2\n",
    "\n",
    "    return c\n",
    "end"
   ]
  },
  {
   "cell_type": "code",
   "execution_count": 13,
   "metadata": {},
   "outputs": [
    {
     "data": {
      "text/plain": [
       "build_D (generic function with 1 method)"
      ]
     },
     "execution_count": 13,
     "metadata": {},
     "output_type": "execute_result"
    }
   ],
   "source": [
    "function build_D(N)\n",
    "    c = build_c()\n",
    "    \n",
    "    D = zeros(N+1, N+1)\n",
    "    D[1,1] = (2*N^2+1)/6\n",
    "    D[N+1, N+1] = -(2*N^2+1)/6\n",
    "    \n",
    "    for i = 1:N-1\n",
    "        D[i+1,i+1] = -1/2*(x(i)/(1-x(i)^2))\n",
    "    end\n",
    "    \n",
    "    for i = 0:N, j = 0:N\n",
    "        if i != j\n",
    "            D[i+1,j+1] = c[i+1]*(-1)^(i+j)/(c[j+1]*(x(i) - x(j)))\n",
    "        end\n",
    "    end\n",
    "\n",
    "    return D\n",
    "end"
   ]
  },
  {
   "cell_type": "code",
   "execution_count": 14,
   "metadata": {},
   "outputs": [
    {
     "data": {
      "text/plain": [
       "build_M (generic function with 1 method)"
      ]
     },
     "execution_count": 14,
     "metadata": {},
     "output_type": "execute_result"
    }
   ],
   "source": [
    "function build_M(N, tau, A0, A1)\n",
    "    \n",
    "    D = build_D(N)\n",
    "    \n",
    "    tau = 0.02\n",
    "    C = -2*D/tau\n",
    "    \n",
    "    C_hat = C[1:N, 1:N+1]\n",
    "    \n",
    "    n, null = size(A0)\n",
    "    eye = Matrix(1.0I, n, n)\n",
    "\n",
    "    M_temp = kronecker(C_hat, eye)\n",
    "    \n",
    "    sec_row = zeros(n, n*(N+1))\n",
    "    sec_row[1:n, 1:n] = A1\n",
    "    sec_row[1:n, N*n + 1:(N+1)*n] = A0\n",
    "\n",
    "    M = [M_temp\n",
    "             sec_row]\n",
    "    return M, n\n",
    "end"
   ]
  },
  {
   "cell_type": "code",
   "execution_count": 15,
   "metadata": {},
   "outputs": [],
   "source": [
    "# Benchmarking from Milano\n",
    "\n",
    "N = 1\n",
    "\n",
    "D1 = [0.5 -0.5\n",
    "        0.5 -0.5]\n",
    "\n",
    "D1_our = build_D(N)\n",
    "\n",
    "@assert D1 ≈ D1_our"
   ]
  },
  {
   "cell_type": "code",
   "execution_count": 16,
   "metadata": {},
   "outputs": [],
   "source": [
    "N = 2\n",
    "\n",
    "D2 = [1.5 -2 0.5\n",
    "        0.5 0 -0.5\n",
    "            -0.5 2 -1.5]\n",
    "\n",
    "D2_our = build_D(N)\n",
    "\n",
    "@assert D2 ≈ D2_our"
   ]
  },
  {
   "cell_type": "code",
   "execution_count": 18,
   "metadata": {},
   "outputs": [
    {
     "data": {
      "text/plain": [
       "([-1650.0 -0.0 … 50.0 0.0; -0.0 -1650.0 … 0.0 50.0; … ; 0.0 0.0 … -2.0 0.0; 0.0 -0.1 … 0.0 -1.0], 2)"
      ]
     },
     "execution_count": 18,
     "metadata": {},
     "output_type": "execute_result"
    }
   ],
   "source": [
    "using Kronecker\n",
    "using LinearAlgebra\n",
    "\n",
    "N = 7\n",
    "\n",
    "A0 = [-2 0 \n",
    "        0 -1]\n",
    "\n",
    "A1 = [0 0 \n",
    "        0 -0.1]\n",
    "\n",
    "A2 = [-2 0 0\n",
    "        0 -1 0\n",
    "         0 0 -3]\n",
    "\n",
    "A3 = [0 0 0\n",
    "        0 0 0 \n",
    "         0 0 -0.1]\n",
    "\n",
    "# Real matrices from Jia paper\n",
    "\n",
    "A4 = zeros(4, 4)\n",
    "A4[1, 2] = 376.9911\n",
    "A4[2, 1:3] = [-0.0963 -0.5 -0.0801]\n",
    "A4[3, :] = [-0.0480 0 -0.1667 0.1]\n",
    "A4[4, 4] = -1\n",
    "\n",
    "A5 = zeros(4,4)\n",
    "A5[4, 1] = 38.0187\n",
    "A5[4, 3] = -95.2560\n",
    "\n",
    "tau = 0.01\n",
    "\n",
    "M, n = build_M(N, tau, A0, A1)\n",
    "\n"
   ]
  },
  {
   "cell_type": "code",
   "execution_count": 19,
   "metadata": {},
   "outputs": [
    {
     "name": "stdout",
     "output_type": "stream",
     "text": [
      "According to Milano, size of M should be N*n x N*n\n",
      "measured size of M = 16 x 16\n",
      "N = 7\n",
      "n = 2\n",
      "measured_N = 8.0\n",
      "measured_N*n = 16.0\n",
      "measured_N*n x measured_N*n = 16.0 x 16.0\n"
     ]
    }
   ],
   "source": [
    "println(\"According to Milano, size of M should be N*n x N*n\")\n",
    "\n",
    "s, t = size(M)\n",
    "println(\"measured size of M = $s x $t\")\n",
    "measured_N = s/n\n",
    "prod = measured_N*n\n",
    "\n",
    "println(\"N = $N\")\n",
    "println(\"n = $n\")\n",
    "println(\"measured_N = $measured_N\")\n",
    "println(\"measured_N*n = $prod\")\n",
    "println(\"measured_N*n x measured_N*n = $(measured_N*n) x $(measured_N*n)\")\n"
   ]
  },
  {
   "cell_type": "code",
   "execution_count": 20,
   "metadata": {},
   "outputs": [
    {
     "data": {
      "text/plain": [
       "(16, 16)"
      ]
     },
     "execution_count": 20,
     "metadata": {},
     "output_type": "execute_result"
    }
   ],
   "source": [
    "size(M)"
   ]
  },
  {
   "cell_type": "code",
   "execution_count": 21,
   "metadata": {},
   "outputs": [
    {
     "data": {
      "text/plain": [
       "16-element Vector{ComplexF64}:\n",
       "  -332.8866963853495 + 0.0im\n",
       "  -326.6925313026702 + 0.0im\n",
       "  -312.6754369714155 - 166.41401274431607im\n",
       "  -312.6754369714155 + 166.41401274431607im\n",
       "  -308.7974772789299 - 166.43748203315153im\n",
       "  -308.7974772789299 + 166.43748203315153im\n",
       "  -232.9845353611487 - 345.3253547738202im\n",
       "  -232.9845353611487 + 345.3253547738202im\n",
       " -232.11021225832025 - 345.2134650840502im\n",
       " -232.11021225832025 + 345.2134650840502im\n",
       " -116.81697065113974 - 557.2615512465941im\n",
       " -116.81697065113974 + 557.2615512465941im\n",
       " -116.77463916724722 - 557.2070820475063im\n",
       " -116.77463916724722 + 557.2070820475063im\n",
       "                -2.0 + 0.0im\n",
       " -1.1022289355797015 + 0.0im"
      ]
     },
     "execution_count": 21,
     "metadata": {},
     "output_type": "execute_result"
    }
   ],
   "source": [
    "eigs = eigvals(M)"
   ]
  },
  {
   "cell_type": "code",
   "execution_count": 22,
   "metadata": {},
   "outputs": [
    {
     "name": "stdout",
     "output_type": "stream",
     "text": [
      "[-2.0, -1.0]\n",
      "[-0.1, 0.0]\n"
     ]
    }
   ],
   "source": [
    "println(eigvals(A0))\n",
    "println(eigvals(A1))"
   ]
  },
  {
   "cell_type": "code",
   "execution_count": null,
   "metadata": {},
   "outputs": [],
   "source": []
  }
 ],
 "metadata": {
  "kernelspec": {
   "display_name": "Julia 1.7.3",
   "language": "julia",
   "name": "julia-1.7"
  },
  "language_info": {
   "file_extension": ".jl",
   "mimetype": "application/julia",
   "name": "julia",
   "version": "1.7.3"
  }
 },
 "nbformat": 4,
 "nbformat_minor": 4
}

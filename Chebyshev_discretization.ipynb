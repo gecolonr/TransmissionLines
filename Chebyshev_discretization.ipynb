{
 "cells": [
  {
   "cell_type": "code",
   "execution_count": 1,
   "metadata": {},
   "outputs": [
    {
     "data": {
      "text/plain": [
       "benchmarking (generic function with 1 method)"
      ]
     },
     "execution_count": 1,
     "metadata": {},
     "output_type": "execute_result"
    }
   ],
   "source": [
    "using Kronecker\n",
    "using LinearAlgebra\n",
    "include(\"functions.jl\")"
   ]
  },
  {
   "cell_type": "code",
   "execution_count": 2,
   "metadata": {
    "jupyter": {
     "source_hidden": true
    }
   },
   "outputs": [],
   "source": [
    "benchmarking()"
   ]
  },
  {
   "cell_type": "code",
   "execution_count": 3,
   "metadata": {},
   "outputs": [
    {
     "data": {
      "text/plain": [
       "old_data (generic function with 1 method)"
      ]
     },
     "execution_count": 3,
     "metadata": {},
     "output_type": "execute_result"
    }
   ],
   "source": [
    "function old_data()\n",
    "    \n",
    "    N = 7\n",
    "\n",
    "    A0 = [-2 0 \n",
    "            0 -1]\n",
    "\n",
    "    A1 = [0 0 \n",
    "            0 -0.1]\n",
    "\n",
    "    A2 = [-2 0 0\n",
    "            0 -1 0\n",
    "             0 0 -3]\n",
    "\n",
    "    A3 = [0 0 0\n",
    "            0 0 0 \n",
    "             0 0 -0.1]\n",
    "\n",
    "    # Real matrices from Jia paper\n",
    "\n",
    "    A4 = zeros(4, 4)\n",
    "    A4[1, 2] = 376.9911\n",
    "    A4[2, 1:3] = [-0.0963 -0.5 -0.0801]\n",
    "    A4[3, :] = [-0.0480 0 -0.1667 0.1]\n",
    "    A4[4, 4] = -1\n",
    "\n",
    "    A5 = zeros(4,4)\n",
    "    A5[4, 1] = 38.0187\n",
    "    A5[4, 3] = -95.2560\n",
    "\n",
    "    tau = 0.01\n",
    "\n",
    "    M, n = build_M(N, tau, A0, A1)\n",
    "    \n",
    "    println(eigvals(A0))\n",
    "    println(eigvals(A1))\n",
    "end"
   ]
  },
  {
   "cell_type": "code",
   "execution_count": 4,
   "metadata": {},
   "outputs": [
    {
     "data": {
      "text/plain": [
       "50"
      ]
     },
     "execution_count": 4,
     "metadata": {},
     "output_type": "execute_result"
    }
   ],
   "source": [
    "L = 450e-6\n",
    "C = 2.5e-3\n",
    "V_dc = 1200\n",
    "R = 50"
   ]
  },
  {
   "cell_type": "code",
   "execution_count": 10,
   "metadata": {},
   "outputs": [
    {
     "data": {
      "text/plain": [
       "1×4 Matrix{Float64}:\n",
       " 0.0  0.02  0.0  -0.02"
      ]
     },
     "execution_count": 10,
     "metadata": {},
     "output_type": "execute_result"
    }
   ],
   "source": [
    "E = zeros(4,4)\n",
    "E[1,1] = L\n",
    "E[2,2] = C\n",
    "E[3,3] = L\n",
    "E[4,4] = C\n",
    "E\n",
    "\n",
    "J = zeros(4,4)\n",
    "J[1,2] = -1\n",
    "J[2,1] = 1\n",
    "J[3,4] = -1\n",
    "J[4,3] = 1\n",
    "J\n",
    "\n",
    "B = zeros(4,2)\n",
    "B[1,1] = V_dc/2\n",
    "B[3,2] = V_dc/2\n",
    "B\n",
    "\n",
    "M = [0\n",
    "    -1\n",
    "     0\n",
    "     1]\n",
    "\n",
    "N = [0 1/R 0 -1/R]"
   ]
  },
  {
   "cell_type": "code",
   "execution_count": 11,
   "metadata": {},
   "outputs": [
    {
     "data": {
      "text/plain": [
       "4×4 Matrix{Float64}:\n",
       " 0.0   0.0  0.0   0.0\n",
       " 0.0  -8.0  0.0   8.0\n",
       " 0.0   0.0  0.0   0.0\n",
       " 0.0   8.0  0.0  -8.0"
      ]
     },
     "execution_count": 11,
     "metadata": {},
     "output_type": "execute_result"
    }
   ],
   "source": [
    "E_inv = inv(E)\n",
    "A0 = E_inv*J\n",
    "A1 = E_inv*M*N"
   ]
  },
  {
   "cell_type": "code",
   "execution_count": 47,
   "metadata": {},
   "outputs": [
    {
     "data": {
      "text/plain": [
       "([-33000.0 -0.0 … 0.0 0.0; -0.0 -33000.0 … 0.0 0.0; … ; 0.0 0.0 … 0.0 -2222.222222222222; 0.0 8.0 … 400.0 0.0], 4)"
      ]
     },
     "execution_count": 47,
     "metadata": {},
     "output_type": "execute_result"
    }
   ],
   "source": [
    "tau = 1e-3\n",
    "N = 7\n",
    "\n",
    "M, n = build_M(N, tau, A0, A1)"
   ]
  },
  {
   "cell_type": "code",
   "execution_count": 48,
   "metadata": {},
   "outputs": [
    {
     "name": "stdout",
     "output_type": "stream",
     "text": [
      "(32, 32)"
     ]
    },
    {
     "data": {
      "text/plain": [
       "32-element Vector{ComplexF64}:\n",
       "    -6762.433328104145 - 3421.5589086820964im\n",
       "    -6762.433328104145 + 3421.5589086820964im\n",
       "    -6657.733927706982 + 0.0im\n",
       "   -6657.7339277069395 + 0.0im\n",
       "    -6657.733927706831 + 0.0im\n",
       "   -6175.9495455786455 - 3328.7496406630517im\n",
       "   -6175.9495455786455 + 3328.7496406630517im\n",
       "    -6175.949545578616 - 3328.749640663043im\n",
       "    -6175.949545578616 + 3328.749640663043im\n",
       "     -6175.94954557858 - 3328.7496406629834im\n",
       "     -6175.94954557858 + 3328.7496406629834im\n",
       "    -5734.853351577256 + 0.0im\n",
       "    -4659.690707222986 - 6906.507095476409im\n",
       "                       ⋮\n",
       "    -2342.209821286732 - 11152.97729119599im\n",
       "    -2342.209821286732 + 11152.97729119599im\n",
       "    -2335.492783344959 - 11144.141640950136im\n",
       "    -2335.492783344959 + 11144.141640950136im\n",
       "   -2335.4927833449583 - 11144.141640950162im\n",
       "   -2335.4927833449583 + 11144.141640950162im\n",
       "   -2335.4927833449538 - 11144.14164095016im\n",
       "   -2335.4927833449538 + 11144.14164095016im\n",
       "     -4.71209581523064 - 949.3551200483726im\n",
       "     -4.71209581523064 + 949.3551200483726im\n",
       " 7.673861546209082e-13 - 942.8090415820631im\n",
       " 7.673861546209082e-13 + 942.8090415820631im"
      ]
     },
     "execution_count": 48,
     "metadata": {},
     "output_type": "execute_result"
    }
   ],
   "source": [
    "print(size(M))\n",
    "eigs = eigvals(M)"
   ]
  },
  {
   "cell_type": "code",
   "execution_count": 49,
   "metadata": {},
   "outputs": [
    {
     "data": {
      "text/plain": [
       "4×4 Matrix{Float64}:\n",
       "   0.0  -2222.22    0.0      0.0\n",
       " 400.0     -8.0     0.0      8.0\n",
       "   0.0      0.0     0.0  -2222.22\n",
       "   0.0      8.0   400.0     -8.0"
      ]
     },
     "execution_count": 49,
     "metadata": {},
     "output_type": "execute_result"
    }
   ],
   "source": [
    "old_A = A0 + A1"
   ]
  },
  {
   "cell_type": "code",
   "execution_count": 46,
   "metadata": {},
   "outputs": [
    {
     "data": {
      "text/plain": [
       "4-element Vector{ComplexF64}:\n",
       "      -7.999999999999986 - 942.775099845604im\n",
       "      -7.999999999999986 + 942.775099845604im\n",
       " -1.2079226507921703e-13 - 942.8090415820635im\n",
       " -1.2079226507921703e-13 + 942.8090415820635im"
      ]
     },
     "execution_count": 46,
     "metadata": {},
     "output_type": "execute_result"
    }
   ],
   "source": [
    "eigs_old = eigvals(old_A)"
   ]
  },
  {
   "cell_type": "code",
   "execution_count": null,
   "metadata": {},
   "outputs": [],
   "source": [
    "A0"
   ]
  },
  {
   "cell_type": "code",
   "execution_count": null,
   "metadata": {},
   "outputs": [],
   "source": [
    "A1"
   ]
  },
  {
   "cell_type": "code",
   "execution_count": null,
   "metadata": {},
   "outputs": [],
   "source": []
  }
 ],
 "metadata": {
  "kernelspec": {
   "display_name": "Julia 1.7.3",
   "language": "julia",
   "name": "julia-1.7"
  },
  "language_info": {
   "file_extension": ".jl",
   "mimetype": "application/julia",
   "name": "julia",
   "version": "1.7.3"
  }
 },
 "nbformat": 4,
 "nbformat_minor": 4
}

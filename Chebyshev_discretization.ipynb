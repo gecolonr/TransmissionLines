{
 "cells": [
  {
   "cell_type": "code",
   "execution_count": 1,
   "metadata": {},
   "outputs": [],
   "source": [
    "using Kronecker\n",
    "using LinearAlgebra\n",
    "include(\"functions.jl\")"
   ]
  },
  {
   "cell_type": "code",
   "execution_count": 2,
   "metadata": {
    "jupyter": {
     "source_hidden": true
    }
   },
   "outputs": [],
   "source": [
    "benchmarking()"
   ]
  },
  {
   "cell_type": "code",
   "execution_count": 3,
   "metadata": {
    "jupyter": {
     "source_hidden": true
    }
   },
   "outputs": [
    {
     "data": {
      "text/plain": [
       "old_data (generic function with 1 method)"
      ]
     },
     "execution_count": 3,
     "metadata": {},
     "output_type": "execute_result"
    }
   ],
   "source": [
    "function old_data()\n",
    "    \n",
    "    N = 7\n",
    "\n",
    "    A0 = [-2 0 \n",
    "            0 -1]\n",
    "\n",
    "    A1 = [0 0 \n",
    "            0 -0.1]\n",
    "\n",
    "    A2 = [-2 0 0\n",
    "            0 -1 0\n",
    "             0 0 -3]\n",
    "\n",
    "    A3 = [0 0 0\n",
    "            0 0 0 \n",
    "             0 0 -0.1]\n",
    "\n",
    "    # Real matrices from Jia paper\n",
    "\n",
    "    A4 = zeros(4, 4)\n",
    "    A4[1, 2] = 376.9911\n",
    "    A4[2, 1:3] = [-0.0963 -0.5 -0.0801]\n",
    "    A4[3, :] = [-0.0480 0 -0.1667 0.1]\n",
    "    A4[4, 4] = -1\n",
    "\n",
    "    A5 = zeros(4,4)\n",
    "    A5[4, 1] = 38.0187\n",
    "    A5[4, 3] = -95.2560\n",
    "\n",
    "    tau = 0.01\n",
    "\n",
    "    M, n = build_M(N, tau, A0, A1)\n",
    "    \n",
    "    println(eigvals(A0))\n",
    "    println(eigvals(A1))\n",
    "end"
   ]
  },
  {
   "cell_type": "code",
   "execution_count": 4,
   "metadata": {},
   "outputs": [
    {
     "data": {
      "text/plain": [
       "50"
      ]
     },
     "execution_count": 4,
     "metadata": {},
     "output_type": "execute_result"
    }
   ],
   "source": [
    "L = 450e-6\n",
    "C = 2.5e-3\n",
    "V_dc = 1200\n",
    "R = 50"
   ]
  },
  {
   "cell_type": "code",
   "execution_count": 5,
   "metadata": {},
   "outputs": [
    {
     "data": {
      "text/plain": [
       "1×4 Matrix{Float64}:\n",
       " 0.0  0.02  0.0  -0.02"
      ]
     },
     "execution_count": 5,
     "metadata": {},
     "output_type": "execute_result"
    }
   ],
   "source": [
    "E = zeros(4,4)\n",
    "E[1,1] = L\n",
    "E[2,2] = C\n",
    "E[3,3] = L\n",
    "E[4,4] = C\n",
    "E\n",
    "\n",
    "J = zeros(4,4)\n",
    "J[1,2] = -1\n",
    "J[2,1] = 1\n",
    "J[3,4] = -1\n",
    "J[4,3] = 1\n",
    "J\n",
    "\n",
    "B = zeros(4,2)\n",
    "B[1,1] = V_dc/2\n",
    "B[3,2] = V_dc/2\n",
    "B\n",
    "\n",
    "M = [0\n",
    "    -1\n",
    "     0\n",
    "     1]\n",
    "\n",
    "N = [0 1/R 0 -1/R]"
   ]
  },
  {
   "cell_type": "code",
   "execution_count": 6,
   "metadata": {},
   "outputs": [
    {
     "data": {
      "text/plain": [
       "4×4 Matrix{Float64}:\n",
       " 0.0   0.0  0.0   0.0\n",
       " 0.0  -8.0  0.0   8.0\n",
       " 0.0   0.0  0.0   0.0\n",
       " 0.0   8.0  0.0  -8.0"
      ]
     },
     "execution_count": 6,
     "metadata": {},
     "output_type": "execute_result"
    }
   ],
   "source": [
    "E_inv = inv(E)\n",
    "A0 = E_inv*J\n",
    "A1 = E_inv*M*N"
   ]
  },
  {
   "cell_type": "code",
   "execution_count": 27,
   "metadata": {},
   "outputs": [
    {
     "data": {
      "text/plain": [
       "([-0.67 -0.0 … -0.0 -0.0; -0.0 -0.67 … -0.0 -0.0; … ; 0.0 0.0 … 0.0 -2222.222222222222; 0.0 8.0 … 400.0 0.0], 4)"
      ]
     },
     "execution_count": 27,
     "metadata": {},
     "output_type": "execute_result"
    }
   ],
   "source": [
    "tau = 100\n",
    "N = 10\n",
    "\n",
    "M, n = build_M(N, tau, A0, A1)"
   ]
  },
  {
   "cell_type": "code",
   "execution_count": 28,
   "metadata": {},
   "outputs": [
    {
     "name": "stdout",
     "output_type": "stream",
     "text": [
      "(44, 44)"
     ]
    },
    {
     "data": {
      "text/plain": [
       "44-element Vector{ComplexF64}:\n",
       "  -0.09387869192329064 - 0.017054169009548394im\n",
       "  -0.09387869192329064 + 0.017054169009548394im\n",
       "  -0.09383196443875824 - 0.01715658267127967im\n",
       "  -0.09383196443875824 + 0.01715658267127967im\n",
       "  -0.09383196443828866 - 0.017156582672216564im\n",
       "  -0.09383196443828866 + 0.017156582672216564im\n",
       "  -0.09383196354869103 - 0.017156586850532445im\n",
       "  -0.09383196354869103 + 0.017156586850532445im\n",
       "  -0.08648766390663605 - 0.05205923381030466im\n",
       "  -0.08648766390663605 + 0.05205923381030466im\n",
       "  -0.08648766260807329 - 0.052059235360153916im\n",
       "  -0.08648766260807329 + 0.052059235360153916im\n",
       "  -0.08648766260738547 - 0.052059235360337915im\n",
       "                       ⋮\n",
       "  -0.03861338205589845 - 0.19551753272738534im\n",
       "  -0.03861338205589845 + 0.19551753272738534im\n",
       "  -0.03861309918639146 - 0.19551796425335297im\n",
       "  -0.03861309918639146 + 0.19551796425335297im\n",
       "  -0.03861309918639072 - 0.1955179642533889im\n",
       "  -0.03861309918639072 + 0.1955179642533889im\n",
       "  -0.03861309918517858 - 0.1955179642536712im\n",
       "  -0.03861309918517858 + 0.1955179642536712im\n",
       " 7.993605777301127e-15 - 942.8090415820636im\n",
       " 7.993605777301127e-15 + 942.8090415820636im\n",
       " 1.7909992511278006e-7 - 942.8089567294201im\n",
       " 1.7909992511278006e-7 + 942.8089567294201im"
      ]
     },
     "execution_count": 28,
     "metadata": {},
     "output_type": "execute_result"
    }
   ],
   "source": [
    "print(size(M))\n",
    "eigs = eigvals(M)"
   ]
  },
  {
   "cell_type": "code",
   "execution_count": 1,
   "metadata": {},
   "outputs": [
    {
     "data": {
      "text/plain": [
       "2.220446049250313e-16"
      ]
     },
     "execution_count": 1,
     "metadata": {},
     "output_type": "execute_result"
    }
   ],
   "source": [
    "eps()"
   ]
  },
  {
   "cell_type": "code",
   "execution_count": 29,
   "metadata": {},
   "outputs": [
    {
     "data": {
      "text/plain": [
       "4×4 Matrix{Float64}:\n",
       "   0.0  -2222.22    0.0      0.0\n",
       " 400.0     -8.0     0.0      8.0\n",
       "   0.0      0.0     0.0  -2222.22\n",
       "   0.0      8.0   400.0     -8.0"
      ]
     },
     "execution_count": 29,
     "metadata": {},
     "output_type": "execute_result"
    }
   ],
   "source": [
    "old_A = A0 + A1"
   ]
  },
  {
   "cell_type": "code",
   "execution_count": 30,
   "metadata": {},
   "outputs": [
    {
     "data": {
      "text/plain": [
       "4-element Vector{ComplexF64}:\n",
       "      -7.999999999999986 - 942.775099845604im\n",
       "      -7.999999999999986 + 942.775099845604im\n",
       " -1.2079226507921703e-13 - 942.8090415820635im\n",
       " -1.2079226507921703e-13 + 942.8090415820635im"
      ]
     },
     "execution_count": 30,
     "metadata": {},
     "output_type": "execute_result"
    }
   ],
   "source": [
    "eigs_old = eigvals(old_A)"
   ]
  },
  {
   "cell_type": "code",
   "execution_count": 39,
   "metadata": {},
   "outputs": [
    {
     "data": {
      "text/plain": [
       "4×4 Matrix{Float64}:\n",
       "   0.0  -2222.22    0.0      0.0\n",
       " 400.0     -8.0     0.0      8.0\n",
       "   0.0      0.0     0.0  -2222.22\n",
       "   0.0      8.0   400.0     -8.0"
      ]
     },
     "execution_count": 39,
     "metadata": {},
     "output_type": "execute_result"
    }
   ],
   "source": [
    "A_test = [0 -1/L 0 0\n",
    "        1/C -1/(R*C) 0 1/(R*C)\n",
    "        0 0 0 -1/L\n",
    "        0 1/(R*C) 1/C -1/(R*C)]"
   ]
  },
  {
   "cell_type": "code",
   "execution_count": 40,
   "metadata": {},
   "outputs": [
    {
     "data": {
      "text/plain": [
       "4-element Vector{ComplexF64}:\n",
       "      -7.999999999999986 - 942.775099845604im\n",
       "      -7.999999999999986 + 942.775099845604im\n",
       " -1.2079226507921703e-13 - 942.8090415820635im\n",
       " -1.2079226507921703e-13 + 942.8090415820635im"
      ]
     },
     "execution_count": 40,
     "metadata": {},
     "output_type": "execute_result"
    }
   ],
   "source": [
    "eigvals(A_test)"
   ]
  },
  {
   "cell_type": "code",
   "execution_count": null,
   "metadata": {},
   "outputs": [],
   "source": []
  }
 ],
 "metadata": {
  "kernelspec": {
   "display_name": "Julia 1.7.3",
   "language": "julia",
   "name": "julia-1.7"
  },
  "language_info": {
   "file_extension": ".jl",
   "mimetype": "application/julia",
   "name": "julia",
   "version": "1.7.3"
  }
 },
 "nbformat": 4,
 "nbformat_minor": 4
}

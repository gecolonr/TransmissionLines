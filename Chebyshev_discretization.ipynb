{
 "cells": [
  {
   "cell_type": "code",
   "execution_count": 10,
   "metadata": {},
   "outputs": [
    {
     "data": {
      "text/plain": [
       "x (generic function with 1 method)"
      ]
     },
     "execution_count": 10,
     "metadata": {},
     "output_type": "execute_result"
    }
   ],
   "source": [
    "function x(k)\n",
    "    return cos(k*pi/N)\n",
    "end"
   ]
  },
  {
   "cell_type": "code",
   "execution_count": 11,
   "metadata": {},
   "outputs": [
    {
     "data": {
      "text/plain": [
       "build_c (generic function with 1 method)"
      ]
     },
     "execution_count": 11,
     "metadata": {},
     "output_type": "execute_result"
    }
   ],
   "source": [
    "function build_c()\n",
    "    \n",
    "    c = ones(N+1)\n",
    "    c[1] = 2\n",
    "    c[N+1] = 2\n",
    "\n",
    "    return c\n",
    "end"
   ]
  },
  {
   "cell_type": "code",
   "execution_count": 12,
   "metadata": {},
   "outputs": [
    {
     "data": {
      "text/plain": [
       "build_D (generic function with 1 method)"
      ]
     },
     "execution_count": 12,
     "metadata": {},
     "output_type": "execute_result"
    }
   ],
   "source": [
    "function build_D(N)\n",
    "    c = build_c()\n",
    "    \n",
    "    D = zeros(N+1, N+1)\n",
    "    D[1,1] = (2*N^2+1)/6\n",
    "    D[N+1, N+1] = -(2*N^2+1)/6\n",
    "    \n",
    "    for i = 1:N-1\n",
    "        D[i+1,i+1] = -1/2*(x(i)/(1-x(i)^2))\n",
    "    end\n",
    "    \n",
    "    for i = 0:N, j = 0:N\n",
    "        if i != j\n",
    "            D[i+1,j+1] = c[i+1]*(-1)^(i+j)/(c[j+1]*(x(i) - x(j)))\n",
    "        end\n",
    "    end\n",
    "\n",
    "    return D\n",
    "end"
   ]
  },
  {
   "cell_type": "code",
   "execution_count": 13,
   "metadata": {},
   "outputs": [
    {
     "data": {
      "text/plain": [
       "build_M (generic function with 1 method)"
      ]
     },
     "execution_count": 13,
     "metadata": {},
     "output_type": "execute_result"
    }
   ],
   "source": [
    "function build_M(N, tau, A0, A1)\n",
    "    \n",
    "    D = build_D(N)\n",
    "    \n",
    "    tau = 0.02\n",
    "    C = -2*D/tau\n",
    "    \n",
    "    C_hat = C[1:N, 1:N+1]\n",
    "    \n",
    "    n, null = size(A0)\n",
    "    eye = Matrix(1.0I, n, n)\n",
    "\n",
    "    M_temp = kronecker(C_hat, eye)\n",
    "    \n",
    "    sec_row = zeros(n, n*(N+1))\n",
    "    sec_row[1:n, 1:n] = A1\n",
    "    sec_row[1:n, N*n + 1:(N+1)*n] = A0\n",
    "\n",
    "    M = [M_temp\n",
    "             sec_row]\n",
    "    return M, n\n",
    "end"
   ]
  },
  {
   "cell_type": "code",
   "execution_count": 14,
   "metadata": {},
   "outputs": [],
   "source": [
    "# Benchmarking from Milano\n",
    "\n",
    "N = 1\n",
    "\n",
    "D1 = [0.5 -0.5\n",
    "        0.5 -0.5]\n",
    "\n",
    "D1_our = build_D(N)\n",
    "\n",
    "@assert D1 ≈ D1_our"
   ]
  },
  {
   "cell_type": "code",
   "execution_count": 15,
   "metadata": {},
   "outputs": [],
   "source": [
    "N = 2\n",
    "\n",
    "D2 = [1.5 -2 0.5\n",
    "        0.5 0 -0.5\n",
    "            -0.5 2 -1.5]\n",
    "\n",
    "D2_our = build_D(N)\n",
    "\n",
    "@assert D2 ≈ D2_our"
   ]
  },
  {
   "cell_type": "code",
   "execution_count": 16,
   "metadata": {},
   "outputs": [
    {
     "data": {
      "text/plain": [
       "([-1650.0 -0.0 … 50.0 0.0; -0.0 -1650.0 … 0.0 50.0; … ; 0.0 0.0 … -2.0 0.0; 0.0 -0.1 … 0.0 -1.0], 2)"
      ]
     },
     "execution_count": 16,
     "metadata": {},
     "output_type": "execute_result"
    }
   ],
   "source": [
    "using Kronecker\n",
    "using LinearAlgebra\n",
    "\n",
    "N = 7\n",
    "\n",
    "A0 = [-2 0 \n",
    "        0 -1]\n",
    "\n",
    "A1 = [0 0 \n",
    "        0 -0.1]\n",
    "\n",
    "A2 = [-2 0 0\n",
    "        0 -1 0\n",
    "         0 0 -3]\n",
    "\n",
    "A3 = [0 0 0\n",
    "        0 0 0 \n",
    "         0 0 -0.1]\n",
    "\n",
    "# Real matrices from Jia paper\n",
    "\n",
    "A4 = zeros(4, 4)\n",
    "A4[1, 2] = 376.9911\n",
    "A4[2, 1:3] = [-0.0963 -0.5 -0.0801]\n",
    "A4[3, :] = [-0.0480 0 -0.1667 0.1]\n",
    "A4[4, 4] = -1\n",
    "\n",
    "A5 = zeros(4,4)\n",
    "A5[4, 1] = 38.0187\n",
    "A5[4, 3] = -95.2560\n",
    "\n",
    "tau = 0.01\n",
    "\n",
    "M, n = build_M(N, tau, A0, A1)\n",
    "\n"
   ]
  },
  {
   "cell_type": "code",
   "execution_count": 17,
   "metadata": {},
   "outputs": [
    {
     "name": "stdout",
     "output_type": "stream",
     "text": [
      "According to Milano, size of M should be N*n x N*n\n",
      "measured size of M = 16 x 16\n",
      "N = 7\n",
      "n = 2\n",
      "measured_N = 8.0\n",
      "measured_N*n = 16.0\n",
      "measured_N*n x measured_N*n = 16.0 x 16.0\n"
     ]
    }
   ],
   "source": [
    "println(\"According to Milano, size of M should be N*n x N*n\")\n",
    "\n",
    "s, t = size(M)\n",
    "println(\"measured size of M = $s x $t\")\n",
    "measured_N = s/n\n",
    "prod = measured_N*n\n",
    "\n",
    "println(\"N = $N\")\n",
    "println(\"n = $n\")\n",
    "println(\"measured_N = $measured_N\")\n",
    "println(\"measured_N*n = $prod\")\n",
    "println(\"measured_N*n x measured_N*n = $(measured_N*n) x $(measured_N*n)\")\n"
   ]
  },
  {
   "cell_type": "code",
   "execution_count": 18,
   "metadata": {},
   "outputs": [
    {
     "data": {
      "text/plain": [
       "(16, 16)"
      ]
     },
     "execution_count": 18,
     "metadata": {},
     "output_type": "execute_result"
    }
   ],
   "source": [
    "size(M)"
   ]
  },
  {
   "cell_type": "code",
   "execution_count": 19,
   "metadata": {},
   "outputs": [
    {
     "data": {
      "text/plain": [
       "16-element Vector{ComplexF64}:\n",
       "  -332.8866963853495 + 0.0im\n",
       "  -326.6925313026702 + 0.0im\n",
       "  -312.6754369714155 - 166.41401274431607im\n",
       "  -312.6754369714155 + 166.41401274431607im\n",
       "  -308.7974772789299 - 166.43748203315153im\n",
       "  -308.7974772789299 + 166.43748203315153im\n",
       "  -232.9845353611487 - 345.3253547738202im\n",
       "  -232.9845353611487 + 345.3253547738202im\n",
       " -232.11021225832025 - 345.2134650840502im\n",
       " -232.11021225832025 + 345.2134650840502im\n",
       " -116.81697065113974 - 557.2615512465941im\n",
       " -116.81697065113974 + 557.2615512465941im\n",
       " -116.77463916724722 - 557.2070820475063im\n",
       " -116.77463916724722 + 557.2070820475063im\n",
       "                -2.0 + 0.0im\n",
       " -1.1022289355797015 + 0.0im"
      ]
     },
     "execution_count": 19,
     "metadata": {},
     "output_type": "execute_result"
    }
   ],
   "source": [
    "eigs = eigvals(M)"
   ]
  },
  {
   "cell_type": "code",
   "execution_count": 20,
   "metadata": {},
   "outputs": [
    {
     "name": "stdout",
     "output_type": "stream",
     "text": [
      "[-2.0, -1.0]\n",
      "[-0.1, 0.0]\n"
     ]
    }
   ],
   "source": [
    "println(eigvals(A0))\n",
    "println(eigvals(A1))"
   ]
  },
  {
   "cell_type": "code",
   "execution_count": 21,
   "metadata": {},
   "outputs": [],
   "source": [
    "# This a a comment"
   ]
  },
  {
   "cell_type": "code",
   "execution_count": 22,
   "metadata": {},
   "outputs": [
    {
     "data": {
      "text/plain": [
       "0"
      ]
     },
     "execution_count": 22,
     "metadata": {},
     "output_type": "execute_result"
    }
   ],
   "source": [
    "a = 0"
   ]
  },
  {
   "cell_type": "code",
   "execution_count": 23,
   "metadata": {},
   "outputs": [
    {
     "data": {
      "text/plain": [
       "50"
      ]
     },
     "execution_count": 23,
     "metadata": {},
     "output_type": "execute_result"
    }
   ],
   "source": [
    "L = 450e-6\n",
    "C = 2.5e-3\n",
    "V_dc = 1200\n",
    "R = 50"
   ]
  },
  {
   "cell_type": "code",
   "execution_count": 32,
   "metadata": {},
   "outputs": [
    {
     "data": {
      "text/plain": [
       "4×4 Matrix{Float64}:\n",
       " 0.00045  0.0     0.0      0.0\n",
       " 0.0      0.0025  0.0      0.0\n",
       " 0.0      0.0     0.00045  0.0\n",
       " 0.0      0.0     0.0      0.0025"
      ]
     },
     "execution_count": 32,
     "metadata": {},
     "output_type": "execute_result"
    }
   ],
   "source": [
    "E = zeros(4,4)\n",
    "E[1,1] = L\n",
    "E[2,2] = C\n",
    "E[3,3] = L\n",
    "E[4,4] = C\n",
    "E"
   ]
  },
  {
   "cell_type": "code",
   "execution_count": 25,
   "metadata": {},
   "outputs": [
    {
     "data": {
      "text/plain": [
       "4×4 Matrix{Float64}:\n",
       " 0.0  -1.0  0.0   0.0\n",
       " 1.0   0.0  0.0   0.0\n",
       " 0.0   0.0  0.0  -1.0\n",
       " 0.0   0.0  1.0   0.0"
      ]
     },
     "execution_count": 25,
     "metadata": {},
     "output_type": "execute_result"
    }
   ],
   "source": [
    "J = zeros(4,4)\n",
    "J[1,2] = -1\n",
    "J[2,1] = 1\n",
    "J[3,4] = -1\n",
    "J[4,3] = 1\n",
    "J"
   ]
  },
  {
   "cell_type": "code",
   "execution_count": 26,
   "metadata": {},
   "outputs": [
    {
     "data": {
      "text/plain": [
       "600.0"
      ]
     },
     "execution_count": 26,
     "metadata": {},
     "output_type": "execute_result"
    }
   ],
   "source": [
    "B = zeros(4,2)\n",
    "B[1,1] = V_dc/2\n",
    "B[3,1] = V_dc/2"
   ]
  },
  {
   "cell_type": "code",
   "execution_count": 27,
   "metadata": {},
   "outputs": [
    {
     "data": {
      "text/plain": [
       "4-element Vector{Int64}:\n",
       "  0\n",
       " -1\n",
       "  0\n",
       "  1"
      ]
     },
     "execution_count": 27,
     "metadata": {},
     "output_type": "execute_result"
    }
   ],
   "source": [
    "M = [0\n",
    "    -1\n",
    "     0\n",
    "     1]"
   ]
  },
  {
   "cell_type": "code",
   "execution_count": 28,
   "metadata": {},
   "outputs": [
    {
     "data": {
      "text/plain": [
       "1×4 Matrix{Float64}:\n",
       " 0.0  0.02  0.0  -0.02"
      ]
     },
     "execution_count": 28,
     "metadata": {},
     "output_type": "execute_result"
    }
   ],
   "source": [
    "N = [0 1/R 0 -1/R]"
   ]
  },
  {
   "cell_type": "code",
   "execution_count": 29,
   "metadata": {},
   "outputs": [
    {
     "data": {
      "text/plain": [
       "4×4 Matrix{Float64}:\n",
       " 0.0   0.0  0.0   0.0\n",
       " 0.0  -8.0  0.0   8.0\n",
       " 0.0   0.0  0.0   0.0\n",
       " 0.0   8.0  0.0  -8.0"
      ]
     },
     "execution_count": 29,
     "metadata": {},
     "output_type": "execute_result"
    }
   ],
   "source": [
    "E_inv = inv(E)\n",
    "A0 = E_inv*J\n",
    "A1 = E_inv*M*N"
   ]
  },
  {
   "cell_type": "code",
   "execution_count": 30,
   "metadata": {},
   "outputs": [
    {
     "data": {
      "text/plain": [
       "([-1650.0 -0.0 … 0.0 0.0; -0.0 -1650.0 … 0.0 0.0; … ; 0.0 0.0 … 0.0 -2222.222222222222; 0.0 8.0 … 400.0 0.0], 4)"
      ]
     },
     "execution_count": 30,
     "metadata": {},
     "output_type": "execute_result"
    }
   ],
   "source": [
    "using Kronecker\n",
    "using LinearAlgebra\n",
    "\n",
    "tau = 0.01\n",
    "N = 7\n",
    "\n",
    "M, n = build_M(N, tau, A0, A1)"
   ]
  },
  {
   "cell_type": "code",
   "execution_count": 31,
   "metadata": {},
   "outputs": [
    {
     "name": "stdout",
     "output_type": "stream",
     "text": [
      "(32, 32)"
     ]
    },
    {
     "data": {
      "text/plain": [
       "32-element Vector{ComplexF64}:\n",
       "     -347.04166000453813 - 237.42736272291904im\n",
       "     -347.04166000453813 + 237.42736272291904im\n",
       "      -332.8866963853593 + 0.0im\n",
       "      -332.8866963853452 - 8.937034683373284e-13im\n",
       "      -332.8866963853452 + 8.937034683373284e-13im\n",
       "      -308.7974772789347 - 166.43748203314763im\n",
       "      -308.7974772789347 + 166.43748203314763im\n",
       "      -308.7974772789303 - 166.43748203315502im\n",
       "      -308.7974772789303 + 166.43748203315502im\n",
       "     -308.79747727891953 - 166.43748203315454im\n",
       "     -308.79747727891953 + 166.43748203315454im\n",
       "      -267.1482540165781 + 0.0im\n",
       "     -234.13525684792464 - 311.22624223538554im\n",
       "                         ⋮\n",
       "     -116.77463916724818 - 557.2070820475064im\n",
       "     -116.77463916724818 + 557.2070820475064im\n",
       "     -116.77463916724805 - 557.2070820475077im\n",
       "     -116.77463916724805 + 557.2070820475077im\n",
       "      -116.7746391672475 - 557.2070820475071im\n",
       "      -116.7746391672475 + 557.2070820475071im\n",
       "      -111.3310956353307 - 555.8092282466363im\n",
       "      -111.3310956353307 + 555.8092282466363im\n",
       " -2.5579538487363607e-13 - 942.8090415820624im\n",
       " -2.5579538487363607e-13 + 942.8090415820624im\n",
       "      1.0821394960837836 - 943.1959368182769im\n",
       "      1.0821394960837836 + 943.1959368182769im"
      ]
     },
     "execution_count": 31,
     "metadata": {},
     "output_type": "execute_result"
    }
   ],
   "source": [
    "print(size(M))\n",
    "eigs = eigvals(M)"
   ]
  },
  {
   "cell_type": "code",
   "execution_count": null,
   "metadata": {},
   "outputs": [],
   "source": []
  }
 ],
 "metadata": {
  "kernelspec": {
   "display_name": "Julia 1.7.3",
   "language": "julia",
   "name": "julia-1.7"
  },
  "language_info": {
   "file_extension": ".jl",
   "mimetype": "application/julia",
   "name": "julia",
   "version": "1.7.3"
  }
 },
 "nbformat": 4,
 "nbformat_minor": 4
}
